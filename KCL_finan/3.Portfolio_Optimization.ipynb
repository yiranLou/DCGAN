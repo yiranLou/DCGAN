{
 "cells": [
  {
   "cell_type": "markdown",
   "metadata": {},
   "source": [
    "# 3 Portfolio Optimization\n",
    "## 3.1 Adaptive minimum-variance portfolio optimization\n",
    "\n",
    "Consider a portfolio of \\( M \\) assets where the price of an asset \\( m \\) at time \\( t \\) is denoted by \\( p_m[t] \\). The return of each asset \\( r_m[t] \\) is then given by:\n",
    "\n",
    "$$\n",
    "r_m[t] = \\frac{p_m[t] - p_m[t - 1]}{p_m[t - 1]}\n",
    "$$ (8)\n",
    "\n",
    "It is convenient to collect the returns together into a vector, \\( \\mathbf{r}[t] = [r_1[t], ..., r_M[t]]^T \\), where each asset \\( m \\) is characterised by the mean and variance of its returns, \\( \\mu_m = E \\{r_m[t]\\} \\) and \\( \\sigma_m^2 = E \\{(r_m[t] - \\mu_m)^2\\} \\). The correlation between the returns of two assets \\( m \\) and \\( l \\) is given by the correlation coefficient \\( \\rho_{ml} \\in [-1,1] \\), while the covariance matrix of all assets is given by:\n",
    "\n",
    "$$\n",
    "\\mathbf{C} = E \\left\\{ (\\mathbf{r}[t] - \\boldsymbol{\\mu}) (\\mathbf{r}[t] - \\boldsymbol{\\mu})^T \\right\\} \\in \\mathbb{R}^{M \\times M}\n",
    "$$ (9)\n",
    "\n",
    "$$\n",
    "\\boldsymbol{\\mu} = E \\{\\mathbf{r}[t]\\} \\in \\mathbb{R}^M\n",
    "$$ (10)\n",
    "\n",
    "and summarizes the “risk” structure of the system, where the individual covariances between assets \\( m \\) and \\( l \\) are given by \\( [\\mathbf{C}]_{ml} = \\sigma_{ml} = \\rho_{ml} \\sigma_m \\sigma_l \\).\n",
    "\n",
    "It is important to realise that the holdings of a portfolio can be represented by a set of weights, \\( \\mathbf{w} = [w_1, ..., w_M]^T \\), that we apply to our assets. In other words, the weight \\( w_m \\) represents the percentage of our capital which is allocated to asset \\( m \\). The return of the portfolio at time \\( t \\) is therefore given by \\( \\bar{r}[t] = \\mathbf{w}^T \\mathbf{r}[t] \\), so that the expected return and variance of the portfolio are respectively given by:\n",
    "\n",
    "**Expected return:**\n",
    "$$\n",
    "\\bar{\\mu} = E \\{\\bar{r}[t]\\} = \\mathbf{w}^T \\boldsymbol{\\mu}\n",
    "$$ (11)\n",
    "\n",
    "**Variance:**\n",
    "$$\n",
    "\\bar{\\sigma}^2 = E \\left\\{ (\\bar{r}[t] - \\bar{\\mu})^2 \\right\\} = \\mathbf{w}^T \\mathbf{C} \\mathbf{w}\n",
    "$$ (12)\n",
    "\n",
    "Finding the set of weights \\( \\mathbf{w} \\) for a portfolio represents a large portion of the task of asset managers. One of the simplest criteria used in portfolio management is to minimize the risk (measured by variance) of the portfolio, given by (12). Therefore, the minimum variance portfolio is derived based on finding the set of optimal weights, \\( \\mathbf{w} \\), which minimizes the variance, \\( \\bar{\\sigma}^2 \\), subject to the portfolio weights summing up to unity, i.e. \\( \\mathbf{w}^T \\mathbf{1} = 1 \\).\n"
   ]
  }
 ],
 "metadata": {
  "language_info": {
   "name": "python"
  }
 },
 "nbformat": 4,
 "nbformat_minor": 2
}
